{
 "cells": [
  {
   "cell_type": "markdown",
   "metadata": {},
   "source": [
    "# <code><big>Machine Learning Assignment</big></code>\n",
    "<br>\n",
    "<br>\n",
    "Author: Donatella Papa (donatella.papa86@gmail.com) <br>\n",
    "Author: Matteo Giacalone (m.giacalone1@gmail.com)  \n",
    "<code><br></code>\n",
    "Last updated: 20th May 2016\n",
    "\n",
    "# Outline\n",
    "- [Introduction](#intro)\n",
    "- [Obtaining and cleaning data](#data)\n",
    "- [Classification Models](#class)\n",
    "     - [Logistic Regression](#log)  \n",
    "     - [Tree-Based Models](#tree)  \n",
    "         - [Decision Trees](#dec)\n",
    "         - [Bagging](#bag)\n",
    "         - [AdaBoosting](#ada)\n",
    "         - [Random Forest](#for)\n",
    "         - [Gradient Boosting](#grad)\n",
    "         - [Extreme Gradient Boosting](#ext)\n",
    "     - [Support Vector Machine](#svm)\n",
    "- [Conclusion](#conc)    \n",
    "- [References](#ref)\n",
    " \n",
    "\n",
    "# Introduction\n",
    "<a id='intro'></a>\n",
    "Satisfaction is a crucial concern for both customers and organisations, including banks. For the banks, the quality of service is crucial because they usually sell undifferentiated products. Among the main tools that banks can use to survive in the market is the judgment of their customers and their loyalty to the products and services. It is clear that banks have big interests in understanding the reason of the fidelization loss for their clients for building the basis of new strategies aimed at regaining this segment of customers. <br>\n",
    "<br>\n",
    "A multivariate analysis has been developed with the aim of extracting an optimal classification rule able to predict whether a client is a faithful customer or not.\n",
    "The dataset under investigation is taken from the Santander Customer Satisfaction for the Kagglers competition. Our dataset contains 6016 entries relative to features of Santander customers. <br>\n",
    "<br>\n",
    "The variables stored for each entry will be discussed in the next section, underlying the existing of multicollinearities and constants.\n",
    "The classification models will be described in the second section of this project. In addition, an attempt to introduce the best model to well fit the data will be showed.\n",
    "In the third section, ROC curve will be explored, including the power of the aforementioned classification methods will be compared. \n",
    "To sum up, a discussion of the result will lead to the choice of the models that better fits this classification problem, including a comparison between the restricted (using cleaned data) and the full model (using all data).\n",
    "   \n",
    "\n"
   ]
  },
  {
   "cell_type": "markdown",
   "metadata": {},
   "source": [
    "### 0. Imports of libraries that allow the Python code to work "
   ]
  },
  {
   "cell_type": "code",
   "execution_count": 2,
   "metadata": {
    "collapsed": false
   },
   "outputs": [],
   "source": [
    "from types import *\n",
    "import pandas as pd\n",
    "from pandas import Series, DataFrame\n",
    "import numpy as np\n",
    "from sklearn.cross_validation import train_test_split \n",
    "from sklearn.cross_validation import cross_val_score\n",
    "from sklearn.datasets import make_blobs\n",
    "from sklearn.ensemble import RandomForestClassifier\n",
    "from sklearn.tree import DecisionTreeClassifier\n",
    "from sklearn.ensemble import AdaBoostClassifier\n",
    "from sklearn.ensemble import GradientBoostingClassifier\n",
    "from sklearn.linear_model.logistic import LogisticRegression\n",
    "from sklearn import svm\n",
    "import xgboost as xgb\n",
    "from sklearn import preprocessing\n",
    "from sklearn.ensemble import BaggingClassifier\n",
    "from sklearn.neighbors import KNeighborsClassifier\n",
    "from sklearn.metrics import confusion_matrix\n",
    "import sklearn.metrics as mt\n",
    "from sklearn.metrics import roc_curve, auc\n",
    "from sklearn.svm import SVC\n",
    "from sklearn.multiclass import OneVsRestClassifier\n",
    "from scipy import interp\n",
    "from sklearn.decomposition import PCA\n",
    "from sklearn.decomposition import TruncatedSVD\n",
    "from sklearn.random_projection import sparse_random_matrix\n",
    "import matplotlib.pyplot as plt\n",
    "import seaborn as sns\n",
    "%matplotlib inline "
   ]
  },
  {
   "cell_type": "markdown",
   "metadata": {},
   "source": [
    "# 1. Obtaining and cleaning data\n",
    "<a id='data'></a>\n",
    "The dataset contains 6016 entries, inizial composed of 270 variables. Each entry has a label (Target) indicating if the corresponding customer were satisfied or not. <br>\n",
    "In order to apply the preliminar selection of features, the first observation is that many variables only have a few discrete values. <br>\n",
    "Nearly 69% of all categorical variables have fewer than 3% valids case and it means that categorical variables are constant (and assume only a single entry). <br>\n",
    "Furthermore, numerical values are heavily populated by 0s. <br>\n",
    "We find that 99% of this categorical variables have more than 97% of their population filled by 0. <br>\n",
    "These results suggest us that a large number of variables can be removed since they are constant or close to constant.\n",
    "\n",
    "### Let's read our data in using pandas:\n"
   ]
  },
  {
   "cell_type": "code",
   "execution_count": 4,
   "metadata": {
    "collapsed": false
   },
   "outputs": [],
   "source": [
    "data = pd.read_csv(\"./dataset.csv\", delimiter=';')\n"
   ]
  },
  {
   "cell_type": "markdown",
   "metadata": {},
   "source": [
    "## Let's start our cleaning:\n",
    "\n",
    "We isolate the Target and drop it (and ID) by the dataframe"
   ]
  },
  {
   "cell_type": "code",
   "execution_count": 5,
   "metadata": {
    "collapsed": false,
    "scrolled": true
   },
   "outputs": [],
   "source": [
    "# Last column in the dataframe is our Target, we stored it in a matrix\n",
    "t = data.as_matrix(['TARGET'])\n",
    "# Dropping from data of ID and Target\n",
    "data.drop([\"ID\", \"TARGET\"],axis=1,inplace='TRUE')\n",
    "#data.head()\n"
   ]
  },
  {
   "cell_type": "markdown",
   "metadata": {},
   "source": [
    "- Remove the costant variables in the dataset (the variables that have 0 of standard deviation for rows)\n"
   ]
  },
  {
   "cell_type": "code",
   "execution_count": 4,
   "metadata": {
    "collapsed": false
   },
   "outputs": [],
   "source": [
    "eliminate = []\n",
    "\n",
    "for l in  data.columns:\n",
    "    if data[l].std() == 0.:\n",
    "        eliminate.append(l)\n",
    "        \n",
    "data.drop(eliminate,axis=1,inplace='TRUE')"
   ]
  },
  {
   "cell_type": "markdown",
   "metadata": {},
   "source": [
    "- We compute the correlation matrix in order to check the presents of collinearity"
   ]
  },
  {
   "cell_type": "code",
   "execution_count": 5,
   "metadata": {
    "collapsed": true
   },
   "outputs": [],
   "source": [
    "# correlation matrix \n",
    "corr = pd.DataFrame(data).corr() # Check the pairwise correlations of variables\n",
    "\n",
    "#make indices for the collinear variables (m=columns and n=rows)\n",
    "ind_vec_m = []\n",
    "ind_vec_n = []\n",
    "for m in corr:\n",
    "    for n in corr:\n",
    "        if (corr[m][n]>0.995 and corr[m][n] <1 and m > n):\n",
    "            ind_vec_m.append(m)\n",
    "            ind_vec_n.append(n)"
   ]
  },
  {
   "cell_type": "markdown",
   "metadata": {},
   "source": [
    "- We create a list of unique variables "
   ]
  },
  {
   "cell_type": "code",
   "execution_count": 6,
   "metadata": {
    "collapsed": false
   },
   "outputs": [],
   "source": [
    "#create a list of variables unique to remove from dataset\n",
    "eliminate = []\n",
    "eliminate = list(set(ind_vec_m))\n",
    "data.drop(eliminate ,axis=1,inplace='TRUE')\n",
    "\n",
    "eliminate = []\n",
    "eliminate = list(set([x for x in ind_vec_n if ind_vec_n.count(x) > 1]))\n",
    "data.drop(eliminate ,axis=1,inplace='TRUE')"
   ]
  },
  {
   "cell_type": "markdown",
   "metadata": {},
   "source": [
    "- We remove the costant variables in the dataset, according to a fixed threshold"
   ]
  },
  {
   "cell_type": "code",
   "execution_count": 7,
   "metadata": {
    "collapsed": true
   },
   "outputs": [],
   "source": [
    "#remove the constant variables in the dataset (the variables that contain \n",
    "#less then 3% valid cases)\n",
    "perc_const_values = 0.97\n",
    "eliminate = []\n",
    "\n",
    "for n in data.columns:\n",
    "    summa = 0\n",
    "    summa = data[data == 0 ].count()[n] \n",
    "    if summa > data.shape[0]*perc_const_values: #97% \n",
    "        eliminate.append(n)\n",
    "        \n",
    "data.drop(eliminate,axis=1,inplace='TRUE')\n",
    "\n"
   ]
  },
  {
   "cell_type": "markdown",
   "metadata": {},
   "source": [
    "- We remove the costant variables in the dataset (above a threshold)"
   ]
  },
  {
   "cell_type": "code",
   "execution_count": 8,
   "metadata": {
    "collapsed": false
   },
   "outputs": [
    {
     "name": "stdout",
     "output_type": "stream",
     "text": [
      "The number of features after cleaning is 103\n"
     ]
    }
   ],
   "source": [
    "# remove the constant variables in the dataset (the variables that contain less \n",
    "#then 3% categorical variable with only one entry)\n",
    "eliminate = []\n",
    "for m in range(2,10):\n",
    "    for n in data.columns:\n",
    "        summa2 = 0\n",
    "        summa2= summa = data[data == m ].count()[n]  \n",
    "        if summa2 > data.shape[0]*perc_const_values: #97%\n",
    "            eliminate.append(n)\n",
    "\n",
    "data.drop(eliminate,axis=1,inplace='TRUE')\n",
    "print ('The number of features after cleaning is %0.0f' % data.shape[1])"
   ]
  },
  {
   "cell_type": "markdown",
   "metadata": {},
   "source": [
    "# 2. Classification Models\n",
    "<a id='class'></a>"
   ]
  },
  {
   "cell_type": "markdown",
   "metadata": {
    "collapsed": false
   },
   "source": [
    "Different models were explored. Given the high dimensionality of the problem, it is worth to give an attempt to a selection of the input variables. <br>\n",
    "The feature importances, in the Tree-Based Model, will be applied for this porpuse.     \n",
    "Given the presence of a categorical variable (dummies) and of a variable with six levels (like nun_var4) we decided not to perform discriminant analysis, given the non gaussianity of these variables.\n"
   ]
  },
  {
   "cell_type": "markdown",
   "metadata": {},
   "source": [
    "### Split into training and test dataset\n",
    "\n",
    "It is a typical procedure for machine learning and pattern classification tasks to split one dataset into two: a training dataset and a test dataset.\n",
    "The training dataset is henceforth used to train our algorithms or classifier, and the test dataset is a way to validate the outcome quite objectively before we apply it to \"new, real world data\".\n",
    "\n",
    "Here, we will split the dataset randomly so that 77% of the total dataset will become our training dataset, and 33% will become our test dataset, respectively."
   ]
  },
  {
   "cell_type": "code",
   "execution_count": 18,
   "metadata": {
    "collapsed": false
   },
   "outputs": [],
   "source": [
    "# training and test set for the classification\n",
    "X_train, X_test, y_train, y_test = train_test_split(data, t, \n",
    "                                                    test_size=0.33, random_state=50)\n",
    "               "
   ]
  },
  {
   "cell_type": "markdown",
   "metadata": {},
   "source": [
    "## Logistic Regression\n",
    "<a id='log'></a>"
   ]
  },
  {
   "cell_type": "markdown",
   "metadata": {},
   "source": [
    "Logistic regression is a regression model that is popularly used for classification tasks. In logistic regression, the probability that a binary target is True is modeled as a logistic function of a linear combination of features [1].\n",
    "Starting from the 103 variables selected in previous analysis, we first apply the logistic regression (in the following indicated as LG) with categorical variable split in two levels simply specified by the logit: <br>\n",
    "\n",
    "$\n",
    "{logit (p) = log(p/(1-p))}\n",
    "$\n"
   ]
  },
  {
   "cell_type": "code",
   "execution_count": 19,
   "metadata": {
    "collapsed": false
   },
   "outputs": [
    {
     "name": "stdout",
     "output_type": "stream",
     "text": [
      "Confusion Matrix\n",
      "[[616 402]\n",
      " [282 686]]\n",
      "Precision = 0.6305\n",
      "Recall = 0.7087\n",
      "Accuracy = 0.6556\n"
     ]
    }
   ],
   "source": [
    "clf_lg = LogisticRegression()\n",
    "classifier_lg = clf_lg.fit(X_train, y_train.ravel())\n",
    "\n",
    "#Confusion matrix for the prediction \n",
    "predicted_lg = classifier_lg.predict(X_test)\n",
    "cf_test_lg = mt.confusion_matrix(y_test.ravel(), predicted_lg)\n",
    "print 'Confusion Matrix'\n",
    "print cf_test_lg\n",
    "print ('Precision = %0.4f' % mt.precision_score(y_test.ravel(), predicted_lg))\n",
    "print ('Recall = %0.4f' % mt.recall_score(y_test.ravel(), predicted_lg))\n",
    "print ('Accuracy = %0.4f' % mt.accuracy_score(y_test.ravel(), predicted_lg))"
   ]
  },
  {
   "cell_type": "markdown",
   "metadata": {},
   "source": [
    "We check the performance of different regularization parameters for finding the best C (inverse of regularization strength) and improve the accuracy of the fit."
   ]
  },
  {
   "cell_type": "code",
   "execution_count": 20,
   "metadata": {
    "collapsed": false
   },
   "outputs": [
    {
     "name": "stdout",
     "output_type": "stream",
     "text": [
      "C = 0.001; Accuracy = 0.6561\n",
      "C = 0.002; Accuracy = 0.7019\n",
      "C = 0.004; Accuracy = 0.7044\n",
      "C = 0.009; Accuracy = 0.7069\n",
      "C = 0.018; Accuracy = 0.7064\n",
      "C = 0.038; Accuracy = 0.7039\n",
      "C = 0.078; Accuracy = 0.7024\n",
      "C = 0.162; Accuracy = 0.7085\n",
      "C = 0.336; Accuracy = 0.7085\n",
      "C = 0.695; Accuracy = 0.7100\n",
      "C = 1.438; Accuracy = 0.7120\n",
      "C = 2.976; Accuracy = 0.7120\n",
      "C = 6.158; Accuracy = 0.7130\n",
      "C = 12.743; Accuracy = 0.7135\n",
      "C = 26.367; Accuracy = 0.7135\n",
      "C = 54.556; Accuracy = 0.7135\n",
      "C = 112.884; Accuracy = 0.7135\n",
      "C = 233.572; Accuracy = 0.7135\n",
      "C = 483.293; Accuracy = 0.7135\n",
      "C = 1000.000; Accuracy = 0.7140\n",
      "Best accuracy = 0.7140 for i = 1000.000\n"
     ]
    }
   ],
   "source": [
    "# As Regularization parameter: L1\n",
    "best_coeff_L1, best_meas = 0,0\n",
    "for i in np.logspace(-3,3,20):\n",
    "    classifier_lg.set_params(penalty='l1', C=i)\n",
    "    classifier_lg.fit(X_train, y_train.ravel())\n",
    "    predicted_lg = classifier_lg.predict(X_test)\n",
    "    acc = mt.accuracy_score(y_test.ravel(),predicted_lg)\n",
    "    if acc > best_meas:\n",
    "        best_meas = acc\n",
    "        best_coeff_L1 = i\n",
    "    print ('C = %5.3f; Accuracy = %0.4f'% (i, acc))\n",
    "print(\"Best accuracy = %0.4f for i = %5.3f\" % (best_meas, best_coeff_L1))"
   ]
  },
  {
   "cell_type": "code",
   "execution_count": 25,
   "metadata": {
    "collapsed": false
   },
   "outputs": [
    {
     "name": "stdout",
     "output_type": "stream",
     "text": [
      "C = 0.001; Accuracy = 0.6636\n",
      "C = 0.002; Accuracy = 0.6631\n",
      "C = 0.004; Accuracy = 0.6823\n",
      "C = 0.009; Accuracy = 0.6662\n",
      "C = 0.018; Accuracy = 0.6561\n",
      "C = 0.038; Accuracy = 0.6526\n",
      "C = 0.078; Accuracy = 0.6571\n",
      "C = 0.162; Accuracy = 0.6662\n",
      "C = 0.336; Accuracy = 0.6657\n",
      "C = 0.695; Accuracy = 0.6687\n",
      "C = 1.438; Accuracy = 0.6556\n",
      "C = 2.976; Accuracy = 0.6657\n",
      "C = 6.158; Accuracy = 0.6551\n",
      "C = 12.743; Accuracy = 0.6551\n",
      "C = 26.367; Accuracy = 0.6576\n",
      "C = 54.556; Accuracy = 0.6636\n",
      "C = 112.884; Accuracy = 0.6722\n",
      "C = 233.572; Accuracy = 0.6626\n",
      "C = 483.293; Accuracy = 0.6647\n",
      "C = 1000.000; Accuracy = 0.6591\n",
      "Best accuracy = 0.6823 for i = 0.004\n"
     ]
    }
   ],
   "source": [
    "# Regularization parameter = L2\n",
    "best_coeff_L2, best_meas = 0,0\n",
    "for i in np.logspace(-3,3,20):\n",
    "    classifier_lg.set_params(penalty='l2', C=i)\n",
    "    classifier_lg.fit(X_train, y_train.ravel())\n",
    "    predicted_lg = classifier_lg.predict(X_test)\n",
    "    acc = mt.accuracy_score(y_test.ravel(),predicted_lg)\n",
    "    if acc > best_meas:\n",
    "        best_meas = acc\n",
    "        best_coeff_L2 = i\n",
    "    print ('C = %5.3f; Accuracy = %0.4f'% (i, acc))\n",
    "print(\"Best accuracy = %0.4f for i = %5.3f\" % (best_meas, best_coeff_L2))"
   ]
  },
  {
   "cell_type": "markdown",
   "metadata": {},
   "source": [
    "The underlying C implementation uses a random number generator to select features when fitting the model. It is thus not uncommon, to have slightly different results for the same input data. <br>\n",
    "Then we applied again the LG using as penalty, L2 and as C, the best coefficents founded."
   ]
  },
  {
   "cell_type": "code",
   "execution_count": 21,
   "metadata": {
    "collapsed": false
   },
   "outputs": [
    {
     "name": "stdout",
     "output_type": "stream",
     "text": [
      "Confusion Matrix\n",
      "[[695 323]\n",
      " [246 722]]\n",
      "Precision = 0.6909\n",
      "Recall = 0.7459\n",
      "Accuracy = 0.7135\n"
     ]
    }
   ],
   "source": [
    "# Train the logistic model using the training sets \n",
    "classifier_lg.set_params(penalty='l1', C=best_coeff_L1)\n",
    "classifier_lg = classifier_lg.fit(X_train, y_train.ravel())\n",
    "\n",
    "#Confusion matrix for the prediction \n",
    "predicted_lg = classifier_lg.predict(X_test)\n",
    "cf_test_lg = mt.confusion_matrix(y_test.ravel().ravel(), predicted_lg)\n",
    "print 'Confusion Matrix'\n",
    "print  cf_test_lg\n",
    "print ('Precision = %0.4f' % mt.precision_score(y_test, predicted_lg))\n",
    "print ('Recall = %0.4f' % mt.recall_score(y_test.ravel(), predicted_lg))\n",
    "print ('Accuracy = %0.4f' % mt.accuracy_score(y_test.ravel(), predicted_lg))\n"
   ]
  },
  {
   "cell_type": "markdown",
   "metadata": {},
   "source": [
    "To sum up, we observed the best model for the LG classifier with an increasing of the performance using L1 as parameter regularization.\n"
   ]
  },
  {
   "cell_type": "markdown",
   "metadata": {},
   "source": [
    "## Tree-Based Models\n",
    "<a id='tree'></a>"
   ]
  },
  {
   "cell_type": "markdown",
   "metadata": {},
   "source": [
    "Decision tree-based models use a decision tree as a predictive model which maps observations about an item to conclusions about the item's target value.\n",
    "Tree models where the target variable can take a finite set of values are called classification trees.\n",
    "In the following analysis, we have used the same variables for the LG problem of customer target, chosen as explained before. "
   ]
  },
  {
   "cell_type": "markdown",
   "metadata": {},
   "source": [
    "### Decision Trees\n",
    "<a id='dec'></a>"
   ]
  },
  {
   "cell_type": "markdown",
   "metadata": {},
   "source": [
    "In this subsection, we used for our analysis Decision Tree models, that are powerful methods for classification problems. In particular, the LG will work for classification problems where classes are approximately linearly separable. Here, lets see how decision trees handle these problems. \n",
    "We know that decision trees are made of hierarchical one variable rules. "
   ]
  },
  {
   "cell_type": "code",
   "execution_count": 22,
   "metadata": {
    "collapsed": false
   },
   "outputs": [
    {
     "name": "stdout",
     "output_type": "stream",
     "text": [
      "Confusion Matrix\n",
      "[[704 314]\n",
      " [205 763]]\n",
      "Precision = 0.7084\n",
      "Recall = 0.7882\n",
      "Accuracy = 0.7387\n"
     ]
    }
   ],
   "source": [
    "#Decision Tree object                              \n",
    "clf_tree = DecisionTreeClassifier(max_depth=5, \n",
    "                                  min_samples_split=1, \n",
    "                                  random_state=0)\n",
    "\n",
    "# Train the model using the training sets \n",
    "classifier_tr = clf_tree.fit(X_train, y_train.ravel())\n",
    "\n",
    "#Predict Output using the test set\n",
    "predicted_tr = clf_tree.predict(X_test) \n",
    "\n",
    "#Confusion matrix for the prediction\n",
    "cf_test_tr = mt.confusion_matrix(y_test.ravel(), predicted_tr)\n",
    "print 'Confusion Matrix'\n",
    "print cf_test_tr\n",
    "print ('Precision = %0.4f' % mt.precision_score(y_test, predicted_tr))\n",
    "print ('Recall = %0.4f' % mt.recall_score(y_test, predicted_tr))\n",
    "print ('Accuracy = %0.4f' % mt.accuracy_score(y_test, predicted_tr))\n"
   ]
  },
  {
   "cell_type": "markdown",
   "metadata": {},
   "source": [
    "As we look before in the confusion matrix, the decision trees increase the accuracy of the classification. The different results for regression and decision trees depend to the differente variance-bias tradeoff. Indeed, in general, the regression models have high bias (“underfits” the data) and low variance, while the tree-based models have low bias (“overfits” the data) and high variance.  "
   ]
  },
  {
   "cell_type": "markdown",
   "metadata": {},
   "source": [
    "### Bagging\n",
    "<a id='bag'></a>\n",
    "\n",
    "Bagging methods form a class of algorithms which build several instances of a estimator on random subsets of the original training set and then aggregate their individual predictions to form a final prediction. These methods are used as a way to reduce the variance of a base estimator (e.g., a decision tree), by introducing randomization into its construction procedure and then making an ensemble out of it [2]."
   ]
  },
  {
   "cell_type": "code",
   "execution_count": 23,
   "metadata": {
    "collapsed": false
   },
   "outputs": [
    {
     "name": "stdout",
     "output_type": "stream",
     "text": [
      "Confusion Matrix\n",
      "[[642 376]\n",
      " [296 672]]\n",
      "Precision = 0.6412\n",
      "Recall = 0.6942\n",
      "Accuracy = 0.6616\n"
     ]
    }
   ],
   "source": [
    "#Bagging object with KNeighbors boundary                     \n",
    "clf_bg = BaggingClassifier(KNeighborsClassifier(),\n",
    "                                  max_samples=0.5, max_features=0.5)\n",
    "\n",
    "# Train the model using the training sets \n",
    "classifier_bg = clf_bg.fit(X_train, y_train.ravel())\n",
    "\n",
    "#Predict Output using the test set\n",
    "predicted_bg = classifier_bg.predict(X_test)  \n",
    "\n",
    "#Confusion matrix for the prediction \n",
    "cf_test_bg = mt.confusion_matrix(y_test.ravel(), predicted_bg)\n",
    "print 'Confusion Matrix'\n",
    "print cf_test_bg\n",
    "print ('Precision = %0.4f' % mt.precision_score(y_test, predicted_bg))\n",
    "print ('Recall = %0.4f' % mt.recall_score(y_test, predicted_bg))\n",
    "print ('Accuracy = %0.4f' % mt.accuracy_score(y_test, predicted_bg))"
   ]
  },
  {
   "cell_type": "markdown",
   "metadata": {},
   "source": [
    "The fundamental parameters to tune when using the bagging methods is n_estimators and max_features. In scikit-learn, bagging methods are offered taking as input a base estimator. In details, max_samples and max_features control the size of the subsets, while bootstrap and bootstrap_features control whether samples and features are drawn with or without replacement. <br>\n",
    "As we look below, the code illustrates how to create a bagging ensemble of KNeighborsClassifier base estimators, each built on random subsets of 50% of the samples and 50% of the features."
   ]
  },
  {
   "cell_type": "code",
   "execution_count": 27,
   "metadata": {
    "collapsed": false
   },
   "outputs": [
    {
     "name": "stdout",
     "output_type": "stream",
     "text": [
      "n= 20: 0.7161\n",
      "n= 25: 0.7216\n",
      "n= 30: 0.7228\n",
      "n= 35: 0.7248\n",
      "n= 40: 0.7186\n",
      "n= 45: 0.7303\n",
      "n= 50: 0.7179\n",
      "n= 55: 0.7189\n",
      "n= 60: 0.7164\n",
      "n= 65: 0.7283\n",
      "n= 70: 0.7345\n",
      "n= 75: 0.7231\n",
      "Best accuracy = 0.7345 for n = 70\n"
     ]
    }
   ],
   "source": [
    "# As regularization of KNeighbors\n",
    "best_coeff_bg, best_meas = 0,0\n",
    "clf_bg = BaggingClassifier(KNeighborsClassifier(),\n",
    "                                  max_samples=0.5, max_features=0.5)\n",
    "for i in range(20,80,5):\n",
    "    clf_bg.set_params(n_estimators=i)\n",
    "    m = cross_val_score(clf_bg, X_train, y_train.ravel(), scoring='accuracy',cv=5).mean()\n",
    "    if m > best_meas:\n",
    "        best_coeff_bg = i\n",
    "        best_meas = m\n",
    "    print(\"n= %i: %0.4f\" % (i, m))\n",
    "print(\"Best accuracy = %0.4f for n = %i\" % (best_meas, best_coeff_bg))"
   ]
  },
  {
   "cell_type": "code",
   "execution_count": 29,
   "metadata": {
    "collapsed": false
   },
   "outputs": [
    {
     "name": "stdout",
     "output_type": "stream",
     "text": [
      "Confusion Matrix\n",
      "[[642 376]\n",
      " [296 672]]\n",
      "Accuracy: 0.7145\n",
      "Precision: 0.7093\n",
      "Recall: 0.6828\n"
     ]
    }
   ],
   "source": [
    "# Train the model using the new estimators \n",
    "clf_bg = BaggingClassifier(KNeighborsClassifier(),n_estimators=best_coeff_bg, max_samples=0.5, \n",
    "                           max_features=0.5)\n",
    "classifier_bg = clf_bg.fit(X_train, y_train.ravel())\n",
    "m = cross_val_score(clf_bg, X_test, y_test.ravel(), scoring='accuracy',cv=5).mean()\n",
    "\n",
    "#Confusion matrix \n",
    "print 'Confusion Matrix'\n",
    "print cf_test_bg\n",
    "print(\"Accuracy: %0.4f\" % m)\n",
    "m = cross_val_score(clf_bg, X_test, y_test.ravel(), scoring='precision',cv=5).mean()\n",
    "print(\"Precision: %0.4f\" % m)\n",
    "m = cross_val_score(clf_bg, X_test, y_test.ravel(), scoring='recall',cv=5).mean()\n",
    "print(\"Recall: %0.4f\" % m)"
   ]
  },
  {
   "cell_type": "markdown",
   "metadata": {},
   "source": [
    "### Adaptive Boosting\n",
    "<a id='ada'></a>\n",
    "\n",
    "AdaBoost is a machine learning meta-algorithm and it can be used together with several learning algorithms to improve their performance. The output of the weak learners is combined into a weighted sum that represents the final output of the boosted classifier. AdaBoost is adaptive as the subsequent weak learners are tweaked in favor of those instances misclassified by previous classifiers.\n",
    "We have implemented an AdaBoost classifier using the scikit library."
   ]
  },
  {
   "cell_type": "code",
   "execution_count": 30,
   "metadata": {
    "collapsed": false,
    "scrolled": true
   },
   "outputs": [
    {
     "name": "stdout",
     "output_type": "stream",
     "text": [
      "Confusion Matrix\n",
      "[[774 244]\n",
      " [254 714]]\n",
      "Precision = 0.7453\n",
      "Recall = 0.7376\n",
      "Accuracy = 0.7492\n"
     ]
    }
   ],
   "source": [
    "# Build a AdaBoosting object\n",
    "clf_adaB = AdaBoostClassifier(n_estimators=35)\n",
    "\n",
    "# Train the model using the training sets \n",
    "classifier_adaB = clf_adaB.fit(X_train, y_train.ravel())\n",
    "\n",
    "#Predict Output using the test set\n",
    "predicted_adaB = clf_adaB.predict(X_test)  \n",
    "\n",
    "#Confusion matrix for the prediction \n",
    "cf_test_adaB = mt.confusion_matrix(y_test.ravel(), predicted_adaB)\n",
    "print 'Confusion Matrix'\n",
    "print cf_test_adaB\n",
    "print ('Precision = %0.4f' % mt.precision_score(y_test, predicted_adaB))\n",
    "print ('Recall = %0.4f' % mt.recall_score(y_test, predicted_adaB))\n",
    "print ('Accuracy = %0.4f' % mt.accuracy_score(y_test, predicted_adaB))"
   ]
  },
  {
   "cell_type": "markdown",
   "metadata": {},
   "source": [
    " The accuracy and precision are not so high and demostrate that the AdaBoost is highly sensitive to noisy data and outliers and is susceptible to the overfitting problem."
   ]
  },
  {
   "cell_type": "markdown",
   "metadata": {},
   "source": [
    "### Random Forest\n",
    "<a id='for'></a>\n",
    "In random forests, each tree in the ensemble is built from a sample drawn with replacement (i.e., a bootstrap sample) from the training set. In addition, when splitting a node during the tree building, the split that is chosen is no longer the best split among all features. As a result of this randomness, the bias of the forest usually slightly increases but, due to averaging, its variance also decreases, usually more than compensating for the increase in bias, hence yielding an overall better model. <br>\n",
    "With a random forest, the first parameter to select is the number of trees because a large amount of trees serves to reduce variance. Each tree fits, or overfits, a part of the training set, and in the end their errors cancel out. We have tuned this parameter in order to improve the fit. <br>\n",
    "We have looked also other parameters above all that ones that control how the big grow."
   ]
  },
  {
   "cell_type": "code",
   "execution_count": 31,
   "metadata": {
    "collapsed": false
   },
   "outputs": [],
   "source": [
    "# Build a Random forest object\n",
    "clf_forest = RandomForestClassifier(n_estimators=2000, # numbers of tree in the forest\n",
    "                                    criterion='gini',\n",
    "                                    max_depth=None,\n",
    "                                    class_weight='balanced',\n",
    "                                    min_samples_split=1,\n",
    "                                    random_state=0)\n",
    "\n",
    "# Train the random forest model using the training sets \n",
    "classifier_rf = clf_forest.fit(X_train, y_train.ravel())"
   ]
  },
  {
   "cell_type": "markdown",
   "metadata": {},
   "source": [
    "Here, we assess the variable importances in the random forest. This technique gives a ranking respect to the importance of the target variable. Features used at the top of the tree are used contribute to the final prediction decision of a larger fraction of the input samples. "
   ]
  },
  {
   "cell_type": "code",
   "execution_count": 32,
   "metadata": {
    "collapsed": true
   },
   "outputs": [],
   "source": [
    "# Take the random forest fit and compute the feature importances\n",
    "importances_rf = clf_forest.feature_importances_\n",
    "std_rf = np.std([tree.feature_importances_ for tree in clf_forest.estimators_],\n",
    "             axis=0)\n",
    "indices_rf = np.argsort(importances_rf)[::-1]"
   ]
  },
  {
   "cell_type": "code",
   "execution_count": 33,
   "metadata": {
    "collapsed": false
   },
   "outputs": [
    {
     "name": "stdout",
     "output_type": "stream",
     "text": [
      "Feature ranking:\n",
      "1. feature 0 (0.200571)\n",
      "2. feature 102 (0.191151)\n",
      "3. feature 97 (0.044991)\n",
      "4. feature 95 (0.042184)\n",
      "5. feature 60 (0.040059)\n",
      "6. feature 62 (0.029897)\n",
      "7. feature 96 (0.028054)\n",
      "8. feature 94 (0.026342)\n",
      "9. feature 55 (0.023459)\n",
      "10. feature 92 (0.023397)\n",
      "11. feature 91 (0.017149)\n",
      "12. feature 76 (0.016897)\n",
      "13. feature 79 (0.016190)\n",
      "14. feature 63 (0.013045)\n",
      "15. feature 78 (0.012726)\n",
      "16. feature 93 (0.012319)\n",
      "17. feature 30 (0.012185)\n",
      "18. feature 46 (0.011515)\n",
      "19. feature 47 (0.011134)\n",
      "20. feature 24 (0.010479)\n",
      "21. feature 74 (0.010196)\n",
      "22. feature 82 (0.010164)\n",
      "23. feature 73 (0.008826)\n",
      "24. feature 75 (0.007583)\n",
      "25. feature 7 (0.007517)\n",
      "26. feature 8 (0.007175)\n",
      "27. feature 6 (0.006758)\n",
      "28. feature 54 (0.005809)\n",
      "29. feature 44 (0.005719)\n",
      "30. feature 10 (0.005514)\n",
      "31. feature 77 (0.005493)\n",
      "32. feature 5 (0.004853)\n",
      "33. feature 3 (0.004682)\n",
      "34. feature 65 (0.004546)\n",
      "35. feature 45 (0.004405)\n",
      "36. feature 88 (0.004172)\n",
      "37. feature 86 (0.004074)\n",
      "38. feature 84 (0.003920)\n",
      "39. feature 42 (0.003664)\n",
      "40. feature 40 (0.003651)\n",
      "41. feature 2 (0.003541)\n",
      "42. feature 41 (0.003483)\n",
      "43. feature 4 (0.003479)\n",
      "44. feature 43 (0.003441)\n",
      "45. feature 1 (0.003404)\n",
      "46. feature 52 (0.002982)\n",
      "47. feature 90 (0.002931)\n",
      "48. feature 51 (0.002799)\n",
      "49. feature 83 (0.002725)\n",
      "50. feature 87 (0.002709)\n",
      "51. feature 57 (0.002639)\n",
      "52. feature 64 (0.002634)\n",
      "53. feature 85 (0.002547)\n",
      "54. feature 61 (0.002543)\n",
      "55. feature 53 (0.002462)\n",
      "56. feature 100 (0.002320)\n",
      "57. feature 101 (0.002279)\n",
      "58. feature 72 (0.002199)\n",
      "59. feature 15 (0.001986)\n",
      "60. feature 29 (0.001966)\n",
      "61. feature 28 (0.001941)\n",
      "62. feature 99 (0.001802)\n",
      "63. feature 98 (0.001799)\n",
      "64. feature 34 (0.001785)\n",
      "65. feature 89 (0.001714)\n",
      "66. feature 56 (0.001681)\n",
      "67. feature 31 (0.001653)\n",
      "68. feature 32 (0.001643)\n",
      "69. feature 14 (0.001515)\n",
      "70. feature 13 (0.001493)\n",
      "71. feature 33 (0.001434)\n",
      "72. feature 71 (0.001432)\n",
      "73. feature 49 (0.001428)\n",
      "74. feature 50 (0.001337)\n",
      "75. feature 48 (0.001173)\n",
      "76. feature 11 (0.001165)\n",
      "77. feature 70 (0.001135)\n",
      "78. feature 68 (0.001108)\n",
      "79. feature 81 (0.001054)\n",
      "80. feature 69 (0.001039)\n",
      "81. feature 35 (0.001022)\n",
      "82. feature 16 (0.000994)\n",
      "83. feature 67 (0.000980)\n",
      "84. feature 9 (0.000918)\n",
      "85. feature 66 (0.000890)\n",
      "86. feature 23 (0.000889)\n",
      "87. feature 25 (0.000842)\n",
      "88. feature 80 (0.000801)\n",
      "89. feature 58 (0.000801)\n",
      "90. feature 59 (0.000700)\n",
      "91. feature 26 (0.000653)\n",
      "92. feature 27 (0.000649)\n",
      "93. feature 12 (0.000432)\n",
      "94. feature 37 (0.000327)\n",
      "95. feature 36 (0.000315)\n",
      "96. feature 19 (0.000310)\n",
      "97. feature 38 (0.000306)\n",
      "98. feature 39 (0.000291)\n",
      "99. feature 17 (0.000282)\n",
      "100. feature 22 (0.000200)\n",
      "101. feature 20 (0.000182)\n",
      "102. feature 21 (0.000181)\n",
      "103. feature 18 (0.000171)\n"
     ]
    }
   ],
   "source": [
    "# Print the feature ranking: look at this and make the first interpretation\n",
    "\n",
    "print(\"Feature ranking:\")\n",
    "for f in range(X_train.shape[1]):\n",
    "    print(\"%d. feature %d (%f)\" % (f + 1, indices_rf[f], importances_rf[indices_rf[f]]))"
   ]
  },
  {
   "cell_type": "code",
   "execution_count": 34,
   "metadata": {
    "collapsed": false
   },
   "outputs": [
    {
     "data": {
      "image/png": "[encoded data removed]",
      "text/plain": [
       "<matplotlib.figure.Figure at 0x116f1d610>"
      ]
     },
     "metadata": {},
     "output_type": "display_data"
    }
   ],
   "source": [
    "# Plot the feature importances of the forest\n",
    "#colors = sns.color_palette(\"cubehelix\", 4)\n",
    "colors= sns.color_palette(\"Set2\", 10)\n",
    "sns.set(style=\"darkgrid\", context='paper', palette=colors,\n",
    "\t\trc={\"figure.figsize\": (16, 8), 'image.cmap': 'jet', 'lines.linewidth': .7})\n",
    "sns.set_context(rc={'lines.markeredgewidth': 0.1})\n",
    "almost_black = '#262626'\n",
    "indices_rf_restr = np.argsort(importances_rf)[:93:-1]\n",
    "labels = []\n",
    "for l in data.columns[indices_rf_restr]:\n",
    "    labels.append(l)\n",
    "plt.figure(figsize=(18,12))\n",
    "plt.title(\"Feature importances\", fontsize=12)\n",
    "plt.bar(range(indices_rf_restr.shape[0]), importances_rf[indices_rf_restr],\n",
    "       color=\"r\", yerr=std_rf[indices_rf_restr], align=\"center\")\n",
    "plt.xticks(range(indices_rf_restr.shape[0]), labels, fontsize=9.4)\n",
    "plt.yticks(fontsize=9.4)\n",
    "plt.xlim([-1, indices_rf_restr.shape[0]])\n",
    "plt.show()"
   ]
  },
  {
   "cell_type": "markdown",
   "metadata": {},
   "source": [
    "The most important feature for Random Forrest is var15.\n",
    "In addition, we have tried to explore this features in order to understand if there is a readable meaning."
   ]
  },
  {
   "cell_type": "code",
   "execution_count": 35,
   "metadata": {
    "collapsed": false
   },
   "outputs": [
    {
     "data": {
      "text/plain": [
       "count    4030.000000\n",
       "mean       36.437965\n",
       "std        13.036196\n",
       "min         5.000000\n",
       "25%        25.000000\n",
       "50%        34.000000\n",
       "75%        44.000000\n",
       "max       105.000000\n",
       "Name: var15, dtype: float64"
      ]
     },
     "execution_count": 35,
     "metadata": {},
     "output_type": "execute_result"
    }
   ],
   "source": [
    "X_train['var15'].describe()"
   ]
  },
  {
   "cell_type": "code",
   "execution_count": 36,
   "metadata": {
    "collapsed": false
   },
   "outputs": [
    {
     "data": {
      "text/plain": [
       "(array([   0.,  100.,  200.,  300.,  400.,  500.,  600.,  700.]),\n",
       " <a list of 8 Text yticklabel objects>)"
      ]
     },
     "execution_count": 36,
     "metadata": {},
     "output_type": "execute_result"
    },
    {
     "data": {
      "image/png": "[encoded data removed]",
      "text/plain": [
       "<matplotlib.figure.Figure at 0x149117e10>"
      ]
     },
     "metadata": {},
     "output_type": "display_data"
    }
   ],
   "source": [
    "# plotting the histogram\n",
    "plt.figure(figsize=(18,12))\n",
    "X_train['var15'].hist(bins=90);\n",
    "plt.xticks(fontsize=14)\n",
    "plt.yticks(fontsize=14)"
   ]
  },
  {
   "cell_type": "markdown",
   "metadata": {},
   "source": [
    "From the histogram, the importance variables, var15, could have an approximated gaussian distribution with a mean value = 34 and a standard deviation of 13 and looks like to a distribution of  the age of the customers."
   ]
  },
  {
   "cell_type": "code",
   "execution_count": 37,
   "metadata": {
    "collapsed": false
   },
   "outputs": [
    {
     "name": "stdout",
     "output_type": "stream",
     "text": [
      "Confusion Matrix\n",
      "[[758 260]\n",
      " [249 719]]\n",
      "Precision = 0.7344\n",
      "Recall = 0.7428\n",
      "Accuracy = 0.7437\n"
     ]
    }
   ],
   "source": [
    "#Predict Output using the test set\n",
    "predicted_rf =  clf_forest.predict(X_test)                           \n",
    "\n",
    "#Confusion matrix for the prediction \n",
    "cf_test_rf = mt.confusion_matrix(y_test.ravel(), predicted_rf)\n",
    "print 'Confusion Matrix'\n",
    "print cf_test_rf\n",
    "print ('Precision = %0.4f' % mt.precision_score(y_test, predicted_rf))\n",
    "print ('Recall = %0.4f' % mt.recall_score(y_test, predicted_rf))\n",
    "print ('Accuracy = %0.4f' % mt.accuracy_score(y_test, predicted_rf))"
   ]
  },
  {
   "cell_type": "markdown",
   "metadata": {},
   "source": [
    "As we aspect, the accuracy of the random forest model increases respect to decision trees. "
   ]
  },
  {
   "cell_type": "markdown",
   "metadata": {
    "collapsed": true
   },
   "source": [
    "### Gradient Boosting\n",
    "<a id='grad'></a>"
   ]
  },
  {
   "cell_type": "markdown",
   "metadata": {},
   "source": [
    "Gradient boosting is a machine learning technique for regression and classification problems, which produces a prediction model in the form of an ensemble of weak prediction models, typically decision trees. It builds the model in a stage-wise fashion like other boosting methods do, and it generalizes them by allowing optimization of an arbitrary differentiable loss function."
   ]
  },
  {
   "cell_type": "code",
   "execution_count": 38,
   "metadata": {
    "collapsed": false
   },
   "outputs": [],
   "source": [
    "#Gradient Boosting object and fitted the model\n",
    "clf_GradBoost = GradientBoostingClassifier(n_estimators=500, subsample=0.3, \n",
    "                                           learning_rate=0.1,\n",
    "                                           max_depth=1, \n",
    "                                           random_state=0).fit(X_train, y_train.ravel()) "
   ]
  },
  {
   "cell_type": "code",
   "execution_count": 39,
   "metadata": {
    "collapsed": false
   },
   "outputs": [
    {
     "name": "stdout",
     "output_type": "stream",
     "text": [
      "Feature ranking:\n",
      "1. feature 102 (0.144000)\n",
      "2. feature 0 (0.116000)\n",
      "3. feature 60 (0.070000)\n",
      "4. feature 1 (0.038000)\n",
      "5. feature 96 (0.030000)\n",
      "6. feature 56 (0.028000)\n",
      "7. feature 94 (0.028000)\n",
      "8. feature 75 (0.026000)\n",
      "9. feature 97 (0.026000)\n",
      "10. feature 95 (0.026000)\n",
      "11. feature 5 (0.022000)\n",
      "12. feature 6 (0.022000)\n",
      "13. feature 91 (0.022000)\n",
      "14. feature 64 (0.020000)\n",
      "15. feature 90 (0.016000)\n",
      "16. feature 98 (0.016000)\n",
      "17. feature 76 (0.016000)\n",
      "18. feature 8 (0.016000)\n",
      "19. feature 61 (0.016000)\n",
      "20. feature 65 (0.014000)\n",
      "21. feature 93 (0.014000)\n",
      "22. feature 45 (0.014000)\n",
      "23. feature 2 (0.014000)\n",
      "24. feature 86 (0.014000)\n",
      "25. feature 40 (0.014000)\n",
      "26. feature 74 (0.014000)\n",
      "27. feature 92 (0.012000)\n",
      "28. feature 7 (0.012000)\n",
      "29. feature 88 (0.012000)\n",
      "30. feature 99 (0.010000)\n",
      "31. feature 4 (0.010000)\n",
      "32. feature 62 (0.008000)\n",
      "33. feature 44 (0.008000)\n",
      "34. feature 89 (0.008000)\n",
      "35. feature 73 (0.008000)\n",
      "36. feature 42 (0.006000)\n",
      "37. feature 83 (0.006000)\n",
      "38. feature 48 (0.006000)\n",
      "39. feature 87 (0.006000)\n",
      "40. feature 58 (0.006000)\n",
      "41. feature 59 (0.006000)\n",
      "42. feature 84 (0.006000)\n",
      "43. feature 63 (0.006000)\n",
      "44. feature 3 (0.006000)\n",
      "45. feature 82 (0.004000)\n",
      "46. feature 41 (0.004000)\n",
      "47. feature 57 (0.004000)\n",
      "48. feature 23 (0.004000)\n",
      "49. feature 31 (0.004000)\n",
      "50. feature 36 (0.004000)\n",
      "51. feature 80 (0.004000)\n",
      "52. feature 46 (0.004000)\n",
      "53. feature 85 (0.004000)\n",
      "54. feature 28 (0.002000)\n",
      "55. feature 38 (0.002000)\n",
      "56. feature 30 (0.002000)\n",
      "57. feature 39 (0.002000)\n",
      "58. feature 33 (0.002000)\n",
      "59. feature 50 (0.002000)\n",
      "60. feature 51 (0.002000)\n",
      "61. feature 43 (0.002000)\n",
      "62. feature 79 (0.002000)\n",
      "63. feature 53 (0.002000)\n",
      "64. feature 78 (0.002000)\n",
      "65. feature 55 (0.002000)\n",
      "66. feature 49 (0.002000)\n",
      "67. feature 81 (0.000000)\n",
      "68. feature 17 (0.000000)\n",
      "69. feature 16 (0.000000)\n",
      "70. feature 15 (0.000000)\n",
      "71. feature 14 (0.000000)\n",
      "72. feature 13 (0.000000)\n",
      "73. feature 12 (0.000000)\n",
      "74. feature 11 (0.000000)\n",
      "75. feature 10 (0.000000)\n",
      "76. feature 9 (0.000000)\n",
      "77. feature 69 (0.000000)\n",
      "78. feature 19 (0.000000)\n",
      "79. feature 70 (0.000000)\n",
      "80. feature 71 (0.000000)\n",
      "81. feature 72 (0.000000)\n",
      "82. feature 77 (0.000000)\n",
      "83. feature 18 (0.000000)\n",
      "84. feature 21 (0.000000)\n",
      "85. feature 20 (0.000000)\n",
      "86. feature 66 (0.000000)\n",
      "87. feature 101 (0.000000)\n",
      "88. feature 52 (0.000000)\n",
      "89. feature 37 (0.000000)\n",
      "90. feature 35 (0.000000)\n",
      "91. feature 34 (0.000000)\n",
      "92. feature 54 (0.000000)\n",
      "93. feature 32 (0.000000)\n",
      "94. feature 29 (0.000000)\n",
      "95. feature 47 (0.000000)\n",
      "96. feature 67 (0.000000)\n",
      "97. feature 27 (0.000000)\n",
      "98. feature 26 (0.000000)\n",
      "99. feature 25 (0.000000)\n",
      "100. feature 24 (0.000000)\n",
      "101. feature 68 (0.000000)\n",
      "102. feature 22 (0.000000)\n",
      "103. feature 100 (0.000000)\n"
     ]
    }
   ],
   "source": [
    "#feature importancefor Gradient Boosting\n",
    "importances_gbm = clf_GradBoost.feature_importances_ \n",
    "indices_gbm = np.argsort(importances_gbm)[::-1]\n",
    "\n",
    "# Print the feature ranking: look at this and make the first interpretation\n",
    "\n",
    "print(\"Feature ranking:\")\n",
    "for f in range(X_train.shape[1]):\n",
    "    print(\"%d. feature %d (%f)\" % (f + 1, indices_gbm[f], importances_gbm[indices_gbm[f]]))"
   ]
  },
  {
   "cell_type": "code",
   "execution_count": 40,
   "metadata": {
    "collapsed": false
   },
   "outputs": [
    {
     "data": {
      "image/png": "[encoded data removed]",
      "text/plain": [
       "<matplotlib.figure.Figure at 0x1242aff90>"
      ]
     },
     "metadata": {},
     "output_type": "display_data"
    }
   ],
   "source": [
    "# make importances relative to max importance\n",
    "\n",
    "feature_importance_gbm = 100.0 *(importances_gbm / importances_gbm.max())\n",
    "\n",
    "sorted_idx = np.argsort(feature_importance_gbm)[:93:-1]\n",
    "\n",
    "\n",
    "labels = []\n",
    "for l in data.columns[sorted_idx]:\n",
    "    labels.append(l)\n",
    "pos = np.arange(sorted_idx.shape[0]) \n",
    "plt.figure(figsize=(20,12))\n",
    "plt.bar(pos, feature_importance_gbm[sorted_idx], align='center')\n",
    "plt.yticks(fontsize=14)\n",
    "plt.xticks(range(sorted_idx.shape[0]),labels, fontsize=11)\n",
    "plt.xlabel('Relative Importance', fontsize=14)\n",
    "plt.title('Variable Importance', fontsize=14)\n",
    "plt.xlim([-0.5, sorted_idx.shape[0]])\n",
    "plt.show()"
   ]
  },
  {
   "cell_type": "markdown",
   "metadata": {},
   "source": [
    "As Random Forest, we assess the variable importances and find the same first two variables: var38 and var15."
   ]
  },
  {
   "cell_type": "code",
   "execution_count": 41,
   "metadata": {
    "collapsed": false
   },
   "outputs": [
    {
     "name": "stdout",
     "output_type": "stream",
     "text": [
      "Confusion Matrix\n",
      "[[784 234]\n",
      " [264 704]]\n",
      "Precision = 0.7505\n",
      "Recall = 0.7273\n",
      "Accuracy = 0.7492\n"
     ]
    }
   ],
   "source": [
    "#Predict Output using the test set\n",
    "predicted_gbm = clf_GradBoost.predict(X_test)                 \n",
    "\n",
    "#Confusion matrix for the prediction \n",
    "cf_test_gbm = mt.confusion_matrix(y_test, predicted_gbm)\n",
    "print 'Confusion Matrix'\n",
    "print cf_test_gbm\n",
    "print ('Precision = %0.4f' % mt.precision_score(y_test, predicted_gbm))\n",
    "print ('Recall = %0.4f' % mt.recall_score(y_test, predicted_gbm))\n",
    "print ('Accuracy = %0.4f' % mt.accuracy_score(y_test, predicted_gbm))"
   ]
  },
  {
   "cell_type": "markdown",
   "metadata": {},
   "source": [
    "As we aspect, the accuracy of the Gradient Boosting model increases respect to the random forest. Indeed:\n",
    "- Boosting is based on weak learners (high bias, low variance) as all tree-based models. \n",
    "In terms of decision trees, weak learners are shallow trees, sometimes even as small as decision stumps (trees with two leaves). Boosting reduces error mainly by reducing bias (and also to some extent variance, by aggregating the output from many models).\n",
    "- Random Forest uses as you said fully grown decision trees (low bias, high variance). It tackles the error reduction task in the opposite way: by reducing variance. The trees are made uncorrelated to maximize the decrease in variance, but the algorithm cannot reduce bias (which is slightly higher than the bias of an individual tree in the forest). "
   ]
  },
  {
   "cell_type": "markdown",
   "metadata": {},
   "source": [
    "### Extreme Gradient Boosting\n",
    "<a id='ext'></a>\n",
    "\n",
    "XG Boosting is an efficient implementation of gradient boosting framework. \n",
    "The current implementation of the Gradient Boosting Machine is not fast enough so that we may need to wait for a long time for the result and XGBoosting was born to speed this form of model [3]. \n"
   ]
  },
  {
   "cell_type": "code",
   "execution_count": 42,
   "metadata": {
    "collapsed": false
   },
   "outputs": [
    {
     "name": "stdout",
     "output_type": "stream",
     "text": [
      "Confusion Matrix\n",
      "[[789 229]\n",
      " [247 721]]\n",
      "Precision = 0.7589\n",
      "Recall = 0.7448\n",
      "Accuracy = 0.7603\n"
     ]
    }
   ],
   "source": [
    "## Build a XgBoosting object\n",
    "clf_xgb = xgb.XGBClassifier(max_depth = 5,\n",
    "                            n_estimators=500,\n",
    "                            learning_rate=0.01,\n",
    "                            nthread=6,\n",
    "                            subsample=0.95,\n",
    "                            colsample_bytree=0.90,\n",
    "                            seed=4241)\n",
    "classifier_xgb = clf_xgb.fit(X_train, y_train.ravel())\n",
    "\n",
    "#Predict Output using the test set\n",
    "predicted_xgb = clf_xgb.predict(X_test)  \n",
    "\n",
    "#Confusion matrix for the prediction \n",
    "cf_test_xgb = mt.confusion_matrix(y_test.ravel(), predicted_xgb)\n",
    "print 'Confusion Matrix'\n",
    "print cf_test_xgb\n",
    "print ('Precision = %0.4f' % mt.precision_score(y_test, predicted_xgb))\n",
    "print ('Recall = %0.4f' % mt.recall_score(y_test, predicted_xgb))\n",
    "print ('Accuracy = %0.4f' % mt.accuracy_score(y_test, predicted_xgb))"
   ]
  },
  {
   "cell_type": "markdown",
   "metadata": {},
   "source": [
    "The resulting confusion matrix of Extreme Gradient Boosting gives us the best result of all model until now."
   ]
  },
  {
   "cell_type": "markdown",
   "metadata": {
    "collapsed": true
   },
   "source": [
    "### Support Vector Machine\n",
    "<a id='svm'></a>"
   ]
  },
  {
   "cell_type": "markdown",
   "metadata": {},
   "source": [
    "Support vector machines are supervised learning models with associated learning algorithms. Given a set of training, each marked for belonging to one of two categories, an SVM training algorithm builds a model that assigns new data into one category or the other, making it a non-probabilistic binary linear classifier. \n",
    "In addition to performing linear classification, SVMs can efficiently perform a non-linear classification using what is called the kernel trick, implicitly mapping their inputs into high-dimensional feature spaces [4,5]. <br>"
   ]
  },
  {
   "cell_type": "raw",
   "metadata": {},
   "source": [
    "- In order to give good performances, we apply this method with a restricted set of data computed by Principal Component Analysis. "
   ]
  },
  {
   "cell_type": "code",
   "execution_count": 52,
   "metadata": {
    "collapsed": false
   },
   "outputs": [],
   "source": [
    "# Normalize dataset before \n",
    "data_pca = preprocessing.normalize(data)"
   ]
  },
  {
   "cell_type": "code",
   "execution_count": 53,
   "metadata": {
    "collapsed": false
   },
   "outputs": [],
   "source": [
    "# Perform an eigendecomposition on the covariance matrix\n",
    "cor_mat = np.corrcoef(data_pca.T)\n",
    "eig_vals, eig_vecs = np.linalg.eig(cor_mat)"
   ]
  },
  {
   "cell_type": "code",
   "execution_count": 55,
   "metadata": {
    "collapsed": false
   },
   "outputs": [],
   "source": [
    "#Explained Variance\n",
    "tot = sum(eig_vals)\n",
    "var_exp = [(i / tot)*100 for i in sorted(eig_vals, reverse=True)]\n",
    "cum_var_exp = np.cumsum(var_exp)"
   ]
  },
  {
   "cell_type": "markdown",
   "metadata": {},
   "source": [
    "- The explained variance tells us how much information (variance) can be attributed to each of the principal components. We take the first 6 components that explain the 73% of variance."
   ]
  },
  {
   "cell_type": "code",
   "execution_count": 56,
   "metadata": {
    "collapsed": false
   },
   "outputs": [],
   "source": [
    "#Perform a principal component analysis \n",
    "X_pca = TruncatedSVD(n_components=6).fit_transform(data_pca)\n",
    "\n",
    "#Build a principal component analysis\n",
    "X_trainpca, X_testpca, y_trainpca, y_testpca = train_test_split(X_pca, t, \n",
    "                                                    test_size=0.33, random_state=50)"
   ]
  },
  {
   "cell_type": "markdown",
   "metadata": {},
   "source": [
    "We apply the linear kernel because is good when there is a lot of features. That's because mapping the data to a higher dimensional space does not really improve the performance. "
   ]
  },
  {
   "cell_type": "code",
   "execution_count": 57,
   "metadata": {
    "collapsed": false
   },
   "outputs": [
    {
     "name": "stdout",
     "output_type": "stream",
     "text": [
      "Confusion Matrix\n",
      "[[117 901]\n",
      " [ 26 942]]\n",
      "Precision = 0.5111\n",
      "Recall = 0.9731\n",
      "Accuracy = 0.5332\n"
     ]
    }
   ],
   "source": [
    "## Build a Support vector machine object\n",
    "clf_SVM_kernel = svm.SVC(probability=True, cache_size=1000, kernel='linear', C=1, gamma=1)\n",
    "classifier_SVM_kernel = clf_SVM_kernel.fit(X_trainpca, y_trainpca.ravel())\n",
    "\n",
    "#Predict Output using the test set\n",
    "predicted_svm = classifier_SVM_kernel.predict(X_testpca)\n",
    "\n",
    "#Confusion matrix for the prediction \n",
    "cf_test = mt.confusion_matrix(y_testpca, predicted_svm)\n",
    "print 'Confusion Matrix'\n",
    "print cf_test\n",
    "print ('Precision = %0.4f' % mt.precision_score(y_testpca, predicted_svm))\n",
    "print ('Recall = %0.4f' % mt.recall_score(y_testpca, predicted_svm))\n",
    "print ('Accuracy = %0.4f' % mt.accuracy_score(y_testpca, predicted_svm))"
   ]
  },
  {
   "cell_type": "markdown",
   "metadata": {},
   "source": [
    "Despite of dimensionality reduction with PCA, the Support Vector Machine doesn't performe better than others tecniques shown up to now."
   ]
  },
  {
   "cell_type": "markdown",
   "metadata": {},
   "source": [
    "# Conclusions\n",
    "<a id='conc'></a>\n",
    "             \n",
    "Here, we compare the Receiver Operating Characteristic (ROC) curves of all methods before discussed, in order to assess the best classifier for our analysis.\n"
   ]
  },
  {
   "cell_type": "code",
   "execution_count": 48,
   "metadata": {
    "collapsed": false
   },
   "outputs": [],
   "source": [
    "# Learn to predict each class against the other (for test sample)\n",
    "\n",
    "y_prob_lg = classifier_lg.predict_proba(X_test)\n",
    "y_prob_rf = classifier_rf.predict_proba(X_test)\n",
    "y_prob_tr = classifier_tr.predict_proba(X_test)\n",
    "y_prob_gbm = clf_GradBoost.predict_proba(X_test)\n",
    "y_prob_adaB = classifier_adaB.predict_proba(X_test)\n",
    "y_prob_xgb = classifier_xgb.predict_proba(X_test)\n",
    "y_prob_bg = classifier_bg.predict_proba(X_test)\n",
    "y_prob_SVM= classifier_SVM_kernel.predict_proba(X_testpca)"
   ]
  },
  {
   "cell_type": "code",
   "execution_count": 49,
   "metadata": {
    "collapsed": true
   },
   "outputs": [],
   "source": [
    "# define the roc curse parameters\n",
    "fpr_lg, tpr_lg, thresholds_lg = roc_curve(np.array(y_test), y_prob_lg[:,1], pos_label=1)\n",
    "fpr_rf, tpr_rf, thresholds_rf = roc_curve(np.array(y_test), y_prob_rf[:,1], pos_label=1)\n",
    "fpr_tr, tpr_tr, thresholds_tr = roc_curve(np.array(y_test), y_prob_tr[:,1], pos_label=1)\n",
    "fpr_gbm, tpr_gbm, thresholds_gbm = roc_curve(np.array(y_test), y_prob_gbm[:,1], pos_label=1)\n",
    "fpr_adaB, tpr_adaB, thresholds_adaB = roc_curve(np.array(y_test), y_prob_adaB[:,1], pos_label=1)\n",
    "fpr_xgb, tpr_xgb, thresholds_xgb = roc_curve(np.array(y_test), y_prob_xgb[:,1], pos_label=1)\n",
    "fpr_bg, tpr_bg, thresholds_bg = roc_curve(np.array(y_test), y_prob_bg[:,1], pos_label=1)\n",
    "fpr_SVM, tpr_SVM, thresholds_SVM = roc_curve(np.array(y_testpca), y_prob_SVM[:,1], pos_label=1)"
   ]
  },
  {
   "cell_type": "code",
   "execution_count": 50,
   "metadata": {
    "collapsed": false
   },
   "outputs": [
    {
     "data": {
      "image/png": "[encoded data removed]",
      "text/plain": [
       "<matplotlib.figure.Figure at 0x1243e0850>"
      ]
     },
     "metadata": {},
     "output_type": "display_data"
    }
   ],
   "source": [
    "# plot the roc curves\n",
    "plt.figure(figsize=(16,8), dpi=1600)\n",
    "plt.plot(fpr_lg, tpr_lg, color=colors[0],label='ROC curve Logistic Regression (area = %0.2f)' %  auc(fpr_lg, tpr_lg))\n",
    "plt.plot(fpr_tr, tpr_tr, color=colors[1],label='ROC curve Decision Tree (area = %0.2f)' %  auc(fpr_tr, tpr_tr))\n",
    "plt.plot(fpr_rf, tpr_rf, color=colors[2],label='ROC curve Random Forest (area = %0.2f)' %  auc(fpr_rf, tpr_rf))\n",
    "plt.plot(fpr_gbm, tpr_gbm, color=colors[3],label='ROC curve Gradient Boosting (area = %0.2f)' %  auc(fpr_gbm, tpr_gbm))\n",
    "plt.plot(fpr_SVM, tpr_SVM, color=colors[4],label='ROC curve Support Vector Machine (area = %0.2f)' %  auc(fpr_SVM, tpr_SVM))\n",
    "plt.plot(fpr_adaB, tpr_adaB, color=colors[5],label='ROC curve AdaBoosting (area = %0.2f)' %  auc(fpr_adaB, tpr_adaB))\n",
    "plt.plot(fpr_bg, tpr_bg, color=colors[6],label='ROC curve Bagging (area = %0.2f)' %  auc(fpr_bg, tpr_bg))\n",
    "plt.plot(fpr_xgb, tpr_xgb, color=colors[7],label='ROC curve XGB (area = %0.2f)' %  auc(fpr_xgb, tpr_xgb))\n",
    "\n",
    "plt.plot([0, 1], [0, 1],'k-', linewidth=.8)\n",
    "plt.xlim([0.0, 1.0])\n",
    "plt.ylim([0.0, 1.05])\n",
    "plt.xlabel(r'True Positive Rate $TPR=\\frac{TP}{P}=\\frac{TP}{TP+FN}$', fontsize=12)\n",
    "plt.ylabel(r'False Positive Rate $FPR=\\frac{FP}{N}=\\frac{FP}{TP+FN}$', fontsize=12)\n",
    "plt.title('Receiver operating characteristic', fontsize=14)\n",
    "plt.grid(color='white', linestyle='dashed')\n",
    "plt.legend(loc=\"lower right\", fontsize=14)\n",
    "plt.show()\n",
    "\n"
   ]
  },
  {
   "cell_type": "markdown",
   "metadata": {},
   "source": [
    "We noticed that the Logistic Regression and the Support Vector Machine are less performing then tree-based models. Then, if we apply\n",
    "\n",
    "In conclusion, the best classifier among the considered ones is the Extreme Gradient Boosting, yielding an AUC value of 0.83."
   ]
  },
  {
   "cell_type": "code",
   "execution_count": 59,
   "metadata": {
    "collapsed": false
   },
   "outputs": [
    {
     "name": "stdout",
     "output_type": "stream",
     "text": [
      "AUC LG = 0.788\n",
      "AUC DT = 0.804\n",
      "AUC RF = 0.803\n",
      "AUC GBM = 0.825\n",
      "AUC AdaBoosting = 0.815\n",
      "AUC Bagging = 0.778\n",
      "AUC SVM = 0.663\n",
      "AUC XGB = 0.831\n"
     ]
    }
   ],
   "source": [
    "# Area under curve\n",
    "print ('AUC LG = %0.3f' % auc(fpr_lg, tpr_lg))\n",
    "print ('AUC DT = %0.3f' % auc(fpr_tr, tpr_tr))\n",
    "print ('AUC RF = %0.3f' % auc(fpr_rf, tpr_rf))\n",
    "print ('AUC GBM = %0.3f' % auc(fpr_gbm, tpr_gbm))\n",
    "print ('AUC AdaBoosting = %0.3f' % auc(fpr_adaB, tpr_adaB))\n",
    "print ('AUC Bagging = %0.3f' % auc(fpr_bg, tpr_bg))\n",
    "print ('AUC SVM = %0.3f' % auc(fpr_SVM, tpr_SVM))\n",
    "print ('AUC XGB = %0.3f' % auc(fpr_xgb , tpr_xgb))"
   ]
  },
  {
   "cell_type": "markdown",
   "metadata": {},
   "source": [
    "In this notebook, we have considered for our analysis the cleaning data performed in Section 1. Then we performed the same analysis using the full dataset, in order to understand better which information we loose from our cleaning. The following table shows the comparing between the two set of data according to the Area under Curve, calculated for each techniques. In our opinion, the cleaning operation was done with a well approximation and in some cases, improve the goodness of fit.  "
   ]
  },
  {
   "cell_type": "code",
   "execution_count": 60,
   "metadata": {
    "collapsed": true
   },
   "outputs": [],
   "source": [
    "#loading AUCs from the full dataset (cleaning off)\n",
    "\n",
    "# aucs-full = load(auc_vect)"
   ]
  },
  {
   "cell_type": "markdown",
   "metadata": {},
   "source": [
    "| Model | AUC | AUC-Full         \n",
    "| :- |-------------: | :-:\n",
    "|Logistic Regression|  0.79| 0.79\n",
    "| Decision Tree |  0.80| 0.80\n",
    "| Random Forest |  0.80| 0.80\n",
    "|Gradient Boost.|  0.83| 0.83\n",
    "| AdaBoost      | 0.82 | 0.81\n",
    "| Bagging       | 0.78 | 0.79\n",
    "| SVM           | 0.66 | 0.62\n",
    "|  XGB          | 0.83 | 0.83"
   ]
  },
  {
   "cell_type": "markdown",
   "metadata": {},
   "source": [
    "## 5. References\n",
    "<a id='ref'></a>\n",
    "\n",
    "\\[1\\] Scikit Library (http://scikit-learn.org/stable/supervised_learning.html#supervised-learning)  \n",
    "\n",
    "\\[2\\] Ensemble Methods (http://scikit-learn.org/stable/modules/ensemble.html)  \n",
    "\n",
    "\\[3\\] Extreme Gradient Boosting (http://xgboost.readthedocs.io/en/latest/model.html)  \n",
    "\n",
    "\\[4\\] Support Vector Machine. (http://www.support-vector-machines.org)\n",
    "\n",
    "\\[5\\] The elements of statistical learning. Trevor Hastie,Robert Tibshirani and Jerome Friedman [Springer]"
   ]
  }
 ],
 "metadata": {
  "kernelspec": {
   "display_name": "Python 2",
   "language": "python",
   "name": "python2"
  },
  "language_info": {
   "codemirror_mode": {
    "name": "ipython",
    "version": 2
   },
   "file_extension": ".py",
   "mimetype": "text/x-python",
   "name": "python",
   "nbconvert_exporter": "python",
   "pygments_lexer": "ipython2",
   "version": "2.7.11"
  }
 },
 "nbformat": 4,
 "nbformat_minor": 0
}
